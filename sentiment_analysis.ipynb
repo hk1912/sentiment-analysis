{
  "nbformat": 4,
  "nbformat_minor": 0,
  "metadata": {
    "colab": {
      "name": "sentiment_analysis.ipynb",
      "version": "0.3.2",
      "provenance": [],
      "collapsed_sections": [],
      "include_colab_link": true
    },
    "kernelspec": {
      "name": "python3",
      "display_name": "Python 3"
    },
    "accelerator": "GPU"
  },
  "cells": [
    {
      "cell_type": "markdown",
      "metadata": {
        "id": "view-in-github",
        "colab_type": "text"
      },
      "source": [
        "<a href=\"https://colab.research.google.com/github/hk1912/sentiment-analysis/blob/master/sentiment_analysis.ipynb\" target=\"_parent\"><img src=\"https://colab.research.google.com/assets/colab-badge.svg\" alt=\"Open In Colab\"/></a>"
      ]
    },
    {
      "cell_type": "code",
      "metadata": {
        "id": "SALKkr2NnCkq",
        "colab_type": "code",
        "outputId": "430a70d8-0305-41f9-fc97-60597d6402cd",
        "colab": {
          "base_uri": "https://localhost:8080/",
          "height": 35
        }
      },
      "source": [
        "import re\n",
        "import numpy as np\n",
        "import pandas as pd\n",
        "from sklearn.model_selection import train_test_split\n",
        "import matplotlib.pyplot as plt\n",
        "\n",
        "from keras.models import Sequential, load_model\n",
        "from keras.layers import Dense, LSTM, Embedding, Dropout\n",
        "from keras.preprocessing.text import Tokenizer\n",
        "from keras.preprocessing.sequence import pad_sequences"
      ],
      "execution_count": 0,
      "outputs": [
        {
          "output_type": "stream",
          "text": [
            "Using TensorFlow backend.\n"
          ],
          "name": "stderr"
        }
      ]
    },
    {
      "cell_type": "code",
      "metadata": {
        "id": "VcKlCICRnucm",
        "colab_type": "code",
        "outputId": "1456fbe4-4774-42b8-a9a8-0dcc312b4070",
        "colab": {
          "base_uri": "https://localhost:8080/",
          "height": 126
        }
      },
      "source": [
        "from google.colab import drive\n",
        "drive.mount('/content/gdrive')"
      ],
      "execution_count": 0,
      "outputs": [
        {
          "output_type": "stream",
          "text": [
            "Go to this URL in a browser: https://accounts.google.com/o/oauth2/auth?client_id=947318989803-6bn6qk8qdgf4n4g3pfee6491hc0brc4i.apps.googleusercontent.com&redirect_uri=urn%3Aietf%3Awg%3Aoauth%3A2.0%3Aoob&scope=email%20https%3A%2F%2Fwww.googleapis.com%2Fauth%2Fdocs.test%20https%3A%2F%2Fwww.googleapis.com%2Fauth%2Fdrive%20https%3A%2F%2Fwww.googleapis.com%2Fauth%2Fdrive.photos.readonly%20https%3A%2F%2Fwww.googleapis.com%2Fauth%2Fpeopleapi.readonly&response_type=code\n",
            "\n",
            "Enter your authorization code:\n",
            "··········\n",
            "Mounted at /content/gdrive\n"
          ],
          "name": "stdout"
        }
      ]
    },
    {
      "cell_type": "code",
      "metadata": {
        "id": "AhYFAoZmrrrl",
        "colab_type": "code",
        "outputId": "8f8892fd-b56d-4b38-bab8-636ac2c02db3",
        "colab": {
          "base_uri": "https://localhost:8080/",
          "height": 1000
        }
      },
      "source": [
        "ls"
      ],
      "execution_count": 0,
      "outputs": [
        {
          "output_type": "stream",
          "text": [
            " 2015_lyp_class_12_informaticas_practice_delhi_out_side_qp.pdf\n",
            " 20175096.jpg.jpeg\n",
            " 9-speed-control-of-dc-shunt-motor.doc\n",
            " alia.jpeg\n",
            "\u001b[0m\u001b[01;34m'Auto Call Recorder'\u001b[0m/\n",
            " cat.10704.jpg\n",
            " cat.10705.jpg\n",
            " cat.10706.jpg\n",
            " cat.10707.jpg\n",
            " cat.10708.jpg\n",
            " cat.10709.jpg\n",
            " cat.10710.jpg\n",
            " cat.10711.jpg\n",
            " cat.10712.jpg\n",
            " cat.10713.jpg\n",
            " cat.10714.jpg\n",
            " cat.10716.jpg\n",
            " cat.10718.jpg\n",
            " cat.10721.jpg\n",
            " cat.10754.jpg\n",
            " cat.10755.jpg\n",
            " cat.10756.jpg\n",
            " cat.10757.jpg\n",
            " cat.10758.jpg\n",
            " cat.10759.jpg\n",
            " cat.10760.jpg\n",
            " cat.10761.jpg\n",
            " cat.10762.jpg\n",
            " cat.10763.jpg\n",
            " cat.10764.jpg\n",
            " cat.10765.jpg\n",
            " cat.10766.jpg\n",
            " cat.10767.jpg\n",
            " cat.10768.jpg\n",
            " cat.10769.jpg\n",
            " cat.10770.jpg\n",
            " cat.10771.jpg\n",
            " cat.10772.jpg\n",
            " cat.10773.jpg\n",
            " cat.10774.jpg\n",
            " cat.10775.jpg\n",
            " cat.10779.jpg\n",
            " cat.10824.jpg\n",
            " cat.10825.jpg\n",
            " cat.10826.jpg\n",
            " cat.10827.jpg\n",
            " cat.10828.jpg\n",
            " cat.10829.jpg\n",
            " cat.10830.jpg\n",
            " cat.10831.jpg\n",
            " cat.10832.jpg\n",
            " cat.10833.jpg\n",
            " cat.10834.jpg\n",
            " cat.10835.jpg\n",
            " cat.10837.jpg\n",
            " cat.10838.jpg\n",
            " cat.10842.jpg\n",
            " \u001b[01;34mClassroom\u001b[0m/\n",
            "\u001b[01;34m'Colab Notebooks'\u001b[0m/\n",
            " cvd1.h5\n",
            " cvd3.h5\n",
            " cvd.h25\n",
            " cvd.h5\n",
            "'Frame 2019-01-19 01-16-01.mp4'\n",
            "'Getting started.pdf'\n",
            "'Himanshu1 - Himanshu Kumar Singh.pdf'\n",
            " Himanshu1.pdf\n",
            "'Himanshu_pan - Nov 11 2018 - 12-27 AM.pdf'\n",
            " \u001b[01;34mHk\u001b[0m/\n",
            " house_data.csv\n",
            "'Humanoid bot.gslides'\n",
            " \u001b[01;34miitk\u001b[0m/\n",
            " \u001b[01;34mmnist\u001b[0m/\n",
            "\u001b[01;34m'My Drive'\u001b[0m/\n",
            " \u001b[01;34mtest_cvd\u001b[0m/\n",
            " TIMELINE.docx\n",
            " \u001b[01;34mtrain_cvd\u001b[0m/\n",
            " Tweets.csv\n",
            "'Untitled document.gdoc'\n",
            "'WhatsApp Video 2019-01-19 at 3.04.05 AM.mp4'\n"
          ],
          "name": "stdout"
        }
      ]
    },
    {
      "cell_type": "code",
      "metadata": {
        "id": "tZ3Qs8NOr63y",
        "colab_type": "code",
        "outputId": "678051d4-7603-4ecb-dea0-03ea7b0718b0",
        "colab": {
          "base_uri": "https://localhost:8080/",
          "height": 35
        }
      },
      "source": [
        "cd gdrive/My Drive"
      ],
      "execution_count": 0,
      "outputs": [
        {
          "output_type": "stream",
          "text": [
            "/content/gdrive/My Drive\n"
          ],
          "name": "stdout"
        }
      ]
    },
    {
      "cell_type": "code",
      "metadata": {
        "id": "VTGQLWpXsAd8",
        "colab_type": "code",
        "outputId": "d773dd21-4106-45be-ac42-7e61f0d4e4fa",
        "colab": {
          "base_uri": "https://localhost:8080/",
          "height": 400
        }
      },
      "source": [
        "data = pd.read_csv('Tweets.csv')\n",
        "data = data.sample(frac=1).reset_index(drop=True)\n",
        "print(data.shape)\n",
        "data.head() "
      ],
      "execution_count": 0,
      "outputs": [
        {
          "output_type": "stream",
          "text": [
            "(14640, 15)\n"
          ],
          "name": "stdout"
        },
        {
          "output_type": "execute_result",
          "data": {
            "text/html": [
              "<div>\n",
              "<style scoped>\n",
              "    .dataframe tbody tr th:only-of-type {\n",
              "        vertical-align: middle;\n",
              "    }\n",
              "\n",
              "    .dataframe tbody tr th {\n",
              "        vertical-align: top;\n",
              "    }\n",
              "\n",
              "    .dataframe thead th {\n",
              "        text-align: right;\n",
              "    }\n",
              "</style>\n",
              "<table border=\"1\" class=\"dataframe\">\n",
              "  <thead>\n",
              "    <tr style=\"text-align: right;\">\n",
              "      <th></th>\n",
              "      <th>tweet_id</th>\n",
              "      <th>airline_sentiment</th>\n",
              "      <th>airline_sentiment_confidence</th>\n",
              "      <th>negativereason</th>\n",
              "      <th>negativereason_confidence</th>\n",
              "      <th>airline</th>\n",
              "      <th>airline_sentiment_gold</th>\n",
              "      <th>name</th>\n",
              "      <th>negativereason_gold</th>\n",
              "      <th>retweet_count</th>\n",
              "      <th>text</th>\n",
              "      <th>tweet_coord</th>\n",
              "      <th>tweet_created</th>\n",
              "      <th>tweet_location</th>\n",
              "      <th>user_timezone</th>\n",
              "    </tr>\n",
              "  </thead>\n",
              "  <tbody>\n",
              "    <tr>\n",
              "      <th>0</th>\n",
              "      <td>568058934428372992</td>\n",
              "      <td>positive</td>\n",
              "      <td>1.0</td>\n",
              "      <td>NaN</td>\n",
              "      <td>NaN</td>\n",
              "      <td>United</td>\n",
              "      <td>NaN</td>\n",
              "      <td>andtheretheygo</td>\n",
              "      <td>NaN</td>\n",
              "      <td>0</td>\n",
              "      <td>@united Great, thank you!</td>\n",
              "      <td>NaN</td>\n",
              "      <td>2015-02-18 06:46:18 -0800</td>\n",
              "      <td>NaN</td>\n",
              "      <td>NaN</td>\n",
              "    </tr>\n",
              "    <tr>\n",
              "      <th>1</th>\n",
              "      <td>569656230769262592</td>\n",
              "      <td>positive</td>\n",
              "      <td>1.0</td>\n",
              "      <td>NaN</td>\n",
              "      <td>NaN</td>\n",
              "      <td>American</td>\n",
              "      <td>NaN</td>\n",
              "      <td>SavageRoyal</td>\n",
              "      <td>NaN</td>\n",
              "      <td>0</td>\n",
              "      <td>@americanair @bershawnjackson big UPS to Newar...</td>\n",
              "      <td>NaN</td>\n",
              "      <td>2015-02-22 16:33:23 -0800</td>\n",
              "      <td>Atlanta Ga &amp;&amp; Traveling</td>\n",
              "      <td>NaN</td>\n",
              "    </tr>\n",
              "    <tr>\n",
              "      <th>2</th>\n",
              "      <td>568823136600371200</td>\n",
              "      <td>negative</td>\n",
              "      <td>1.0</td>\n",
              "      <td>Late Flight</td>\n",
              "      <td>1.0000</td>\n",
              "      <td>Delta</td>\n",
              "      <td>NaN</td>\n",
              "      <td>The_Radifier</td>\n",
              "      <td>NaN</td>\n",
              "      <td>0</td>\n",
              "      <td>@JetBlue sis and 16 month old nephew are. Last...</td>\n",
              "      <td>NaN</td>\n",
              "      <td>2015-02-20 09:22:58 -0800</td>\n",
              "      <td>Arlington, VA</td>\n",
              "      <td>Atlantic Time (Canada)</td>\n",
              "    </tr>\n",
              "    <tr>\n",
              "      <th>3</th>\n",
              "      <td>568002085888897025</td>\n",
              "      <td>negative</td>\n",
              "      <td>1.0</td>\n",
              "      <td>Late Flight</td>\n",
              "      <td>0.6842</td>\n",
              "      <td>US Airways</td>\n",
              "      <td>NaN</td>\n",
              "      <td>RyanMackJ</td>\n",
              "      <td>NaN</td>\n",
              "      <td>0</td>\n",
              "      <td>@USAirways after last night in Charlotte NC I'...</td>\n",
              "      <td>NaN</td>\n",
              "      <td>2015-02-18 03:00:24 -0800</td>\n",
              "      <td>Milwaukee, WI</td>\n",
              "      <td>NaN</td>\n",
              "    </tr>\n",
              "    <tr>\n",
              "      <th>4</th>\n",
              "      <td>569691858365915136</td>\n",
              "      <td>negative</td>\n",
              "      <td>1.0</td>\n",
              "      <td>Late Flight</td>\n",
              "      <td>0.7031</td>\n",
              "      <td>American</td>\n",
              "      <td>NaN</td>\n",
              "      <td>friedrice4break</td>\n",
              "      <td>NaN</td>\n",
              "      <td>0</td>\n",
              "      <td>@AmericanAir guys 5350 in dfw  stuck at the ga...</td>\n",
              "      <td>NaN</td>\n",
              "      <td>2015-02-22 18:54:58 -0800</td>\n",
              "      <td>NaN</td>\n",
              "      <td>NaN</td>\n",
              "    </tr>\n",
              "  </tbody>\n",
              "</table>\n",
              "</div>"
            ],
            "text/plain": [
              "             tweet_id  ...           user_timezone\n",
              "0  568058934428372992  ...                     NaN\n",
              "1  569656230769262592  ...                     NaN\n",
              "2  568823136600371200  ...  Atlantic Time (Canada)\n",
              "3  568002085888897025  ...                     NaN\n",
              "4  569691858365915136  ...                     NaN\n",
              "\n",
              "[5 rows x 15 columns]"
            ]
          },
          "metadata": {
            "tags": []
          },
          "execution_count": 6
        }
      ]
    },
    {
      "cell_type": "code",
      "metadata": {
        "id": "PAxRbWmntXrK",
        "colab_type": "code",
        "outputId": "8c5cdf05-6d25-4de7-8295-18c6e3b36044",
        "colab": {
          "base_uri": "https://localhost:8080/",
          "height": 206
        }
      },
      "source": [
        "data = data[['airline_sentiment', 'text']]\n",
        "data.head() "
      ],
      "execution_count": 0,
      "outputs": [
        {
          "output_type": "execute_result",
          "data": {
            "text/html": [
              "<div>\n",
              "<style scoped>\n",
              "    .dataframe tbody tr th:only-of-type {\n",
              "        vertical-align: middle;\n",
              "    }\n",
              "\n",
              "    .dataframe tbody tr th {\n",
              "        vertical-align: top;\n",
              "    }\n",
              "\n",
              "    .dataframe thead th {\n",
              "        text-align: right;\n",
              "    }\n",
              "</style>\n",
              "<table border=\"1\" class=\"dataframe\">\n",
              "  <thead>\n",
              "    <tr style=\"text-align: right;\">\n",
              "      <th></th>\n",
              "      <th>airline_sentiment</th>\n",
              "      <th>text</th>\n",
              "    </tr>\n",
              "  </thead>\n",
              "  <tbody>\n",
              "    <tr>\n",
              "      <th>0</th>\n",
              "      <td>positive</td>\n",
              "      <td>@united Great, thank you!</td>\n",
              "    </tr>\n",
              "    <tr>\n",
              "      <th>1</th>\n",
              "      <td>positive</td>\n",
              "      <td>@americanair @bershawnjackson big UPS to Newar...</td>\n",
              "    </tr>\n",
              "    <tr>\n",
              "      <th>2</th>\n",
              "      <td>negative</td>\n",
              "      <td>@JetBlue sis and 16 month old nephew are. Last...</td>\n",
              "    </tr>\n",
              "    <tr>\n",
              "      <th>3</th>\n",
              "      <td>negative</td>\n",
              "      <td>@USAirways after last night in Charlotte NC I'...</td>\n",
              "    </tr>\n",
              "    <tr>\n",
              "      <th>4</th>\n",
              "      <td>negative</td>\n",
              "      <td>@AmericanAir guys 5350 in dfw  stuck at the ga...</td>\n",
              "    </tr>\n",
              "  </tbody>\n",
              "</table>\n",
              "</div>"
            ],
            "text/plain": [
              "  airline_sentiment                                               text\n",
              "0          positive                          @united Great, thank you!\n",
              "1          positive  @americanair @bershawnjackson big UPS to Newar...\n",
              "2          negative  @JetBlue sis and 16 month old nephew are. Last...\n",
              "3          negative  @USAirways after last night in Charlotte NC I'...\n",
              "4          negative  @AmericanAir guys 5350 in dfw  stuck at the ga..."
            ]
          },
          "metadata": {
            "tags": []
          },
          "execution_count": 7
        }
      ]
    },
    {
      "cell_type": "code",
      "metadata": {
        "id": "JRI6LdiOtbTz",
        "colab_type": "code",
        "outputId": "39772fb1-fc12-43ef-f8c3-ca627419bebf",
        "colab": {
          "base_uri": "https://localhost:8080/",
          "height": 321
        }
      },
      "source": [
        "data['airline_sentiment'].value_counts().sort_index().plot.bar() "
      ],
      "execution_count": 0,
      "outputs": [
        {
          "output_type": "execute_result",
          "data": {
            "text/plain": [
              "<matplotlib.axes._subplots.AxesSubplot at 0x7f7a24720d30>"
            ]
          },
          "metadata": {
            "tags": []
          },
          "execution_count": 8
        },
        {
          "output_type": "display_data",
          "data": {
            "image/png": "[encoded data removed]",
            "text/plain": [
              "<Figure size 432x288 with 1 Axes>"
            ]
          },
          "metadata": {
            "tags": []
          }
        }
      ]
    },
    {
      "cell_type": "code",
      "metadata": {
        "id": "7YSQIDS4t1n0",
        "colab_type": "code",
        "outputId": "ede27a44-b828-4855-e5a8-ba4fe2a7b0da",
        "colab": {
          "base_uri": "https://localhost:8080/",
          "height": 287
        }
      },
      "source": [
        "data['text'].str.len().plot.hist() "
      ],
      "execution_count": 0,
      "outputs": [
        {
          "output_type": "execute_result",
          "data": {
            "text/plain": [
              "<matplotlib.axes._subplots.AxesSubplot at 0x7f7a21e289e8>"
            ]
          },
          "metadata": {
            "tags": []
          },
          "execution_count": 9
        },
        {
          "output_type": "display_data",
          "data": {
            "image/png": "[encoded data removed]",
            "text/plain": [
              "<Figure size 432x288 with 1 Axes>"
            ]
          },
          "metadata": {
            "tags": []
          }
        }
      ]
    },
    {
      "cell_type": "code",
      "metadata": {
        "id": "soIXEgExuG2L",
        "colab_type": "code",
        "outputId": "4d10951a-7995-4d7e-98c7-acaafe56b799",
        "colab": {
          "base_uri": "https://localhost:8080/",
          "height": 124
        }
      },
      "source": [
        "data['text'].apply(lambda x: x.lower())\n",
        "#transform text to lowercase\n",
        "data['text'] = data['text'].apply(lambda x: re.sub('[^a-zA-z0-9\\s]', '', x))\n",
        "data['text'].head() "
      ],
      "execution_count": 0,
      "outputs": [
        {
          "output_type": "execute_result",
          "data": {
            "text/plain": [
              "0                               united Great thank you\n",
              "1    americanair bershawnjackson big UPS to Newark ...\n",
              "2    JetBlue sis and 16 month old nephew are Last n...\n",
              "3    USAirways after last night in Charlotte NC Im ...\n",
              "4    AmericanAir guys 5350 in dfw  stuck at the gat...\n",
              "Name: text, dtype: object"
            ]
          },
          "metadata": {
            "tags": []
          },
          "execution_count": 10
        }
      ]
    },
    {
      "cell_type": "code",
      "metadata": {
        "id": "cmlsj4sNuKnj",
        "colab_type": "code",
        "colab": {}
      },
      "source": [
        "tokenizer = Tokenizer(num_words=5000, split=\" \")\n",
        "tokenizer.fit_on_texts(data['text'].values)\n"
      ],
      "execution_count": 0,
      "outputs": []
    },
    {
      "cell_type": "code",
      "metadata": {
        "id": "6tA_QtZYuu97",
        "colab_type": "code",
        "outputId": "6c43de22-bbd4-40fc-aa75-7b72f257611a",
        "colab": {
          "base_uri": "https://localhost:8080/",
          "height": 303
        }
      },
      "source": [
        "X = tokenizer.texts_to_sequences(data['text'].values)\n",
        "X = pad_sequences(X) # padding our text vector so they all have the same length\n",
        "X[:5] "
      ],
      "execution_count": 0,
      "outputs": [
        {
          "output_type": "execute_result",
          "data": {
            "text/plain": [
              "array([[   0,    0,    0,    0,    0,    0,    0,    0,    0,    0,    0,\n",
              "           0,    0,    0,    0,    0,    0,    0,    0,    0,    0,    0,\n",
              "           0,    0,    0,    0,    0,    0,    0,    5,  114,   68,    6],\n",
              "       [   0,    0,    0,    0,    0,    0,    0,    0,    0,    0,    0,\n",
              "           0,    0,    0,    0,    0,   13,  469, 3098,    1,  528,  108,\n",
              "         207,    3,   23,  279,  863, 1161,  384,    3,   23,   15, 3670],\n",
              "       [   0,    0,    0,    0,    0,    0,    0,    0,    0,    0,    0,\n",
              "           0,   17,   10, 1371,  715,  429, 3671,   35,  129, 2056,    8,\n",
              "          10,   29,   93,   77,   39,   29,   14, 1257,  250,  267,   69],\n",
              "       [   0,    0,    0,    0,    0,    0,    0,    0,    0,    0,    0,\n",
              "           0,   12,   90,  129,  258,   15,  507, 1258,   48,  430, 4604,\n",
              "         124,  125,    6,  103,  536,  593,    9,    2,  413,  256, 1204],\n",
              "       [   0,    0,    0,    0,    0,    0,    0,    0,    0,    0,    0,\n",
              "           0,    0,   13,  105, 2723,   15,  260,  231,   27,    2,   80,\n",
              "           7,  464,   40,   91,   43,   38, 1512,    2, 4605,   86,   57]],\n",
              "      dtype=int32)"
            ]
          },
          "metadata": {
            "tags": []
          },
          "execution_count": 12
        }
      ]
    },
    {
      "cell_type": "code",
      "metadata": {
        "id": "KqQ01mf5vAGH",
        "colab_type": "code",
        "outputId": "c3ed71c6-acb3-4ad1-e36d-7a68d0d0cc28",
        "colab": {
          "base_uri": "https://localhost:8080/",
          "height": 251
        }
      },
      "source": [
        "model = Sequential()\n",
        "model.add(Embedding(5000, 256, input_length=X.shape[1]))\n",
        "model.add(Dropout(0.3))\n",
        "model.add(LSTM(256, return_sequences=True, dropout=0.3, recurrent_dropout=0.2))\n",
        "model.add(LSTM(256, dropout=0.3, recurrent_dropout=0.2))\n",
        "model.add(Dense(3, activation='softmax'))"
      ],
      "execution_count": 0,
      "outputs": [
        {
          "output_type": "stream",
          "text": [
            "WARNING: Logging before flag parsing goes to stderr.\n",
            "W0712 10:30:37.790672 140163957274496 deprecation_wrapper.py:119] From /usr/local/lib/python3.6/dist-packages/keras/backend/tensorflow_backend.py:74: The name tf.get_default_graph is deprecated. Please use tf.compat.v1.get_default_graph instead.\n",
            "\n",
            "W0712 10:30:37.838006 140163957274496 deprecation_wrapper.py:119] From /usr/local/lib/python3.6/dist-packages/keras/backend/tensorflow_backend.py:517: The name tf.placeholder is deprecated. Please use tf.compat.v1.placeholder instead.\n",
            "\n",
            "W0712 10:30:37.846282 140163957274496 deprecation_wrapper.py:119] From /usr/local/lib/python3.6/dist-packages/keras/backend/tensorflow_backend.py:4138: The name tf.random_uniform is deprecated. Please use tf.random.uniform instead.\n",
            "\n",
            "W0712 10:30:37.860152 140163957274496 deprecation_wrapper.py:119] From /usr/local/lib/python3.6/dist-packages/keras/backend/tensorflow_backend.py:133: The name tf.placeholder_with_default is deprecated. Please use tf.compat.v1.placeholder_with_default instead.\n",
            "\n",
            "W0712 10:30:37.867881 140163957274496 deprecation.py:506] From /usr/local/lib/python3.6/dist-packages/keras/backend/tensorflow_backend.py:3445: calling dropout (from tensorflow.python.ops.nn_ops) with keep_prob is deprecated and will be removed in a future version.\n",
            "Instructions for updating:\n",
            "Please use `rate` instead of `keep_prob`. Rate should be set to `rate = 1 - keep_prob`.\n"
          ],
          "name": "stderr"
        }
      ]
    },
    {
      "cell_type": "code",
      "metadata": {
        "id": "xblYM1kMvGDF",
        "colab_type": "code",
        "outputId": "cd85b21f-3755-4cd2-b413-8c4600eea673",
        "colab": {
          "base_uri": "https://localhost:8080/",
          "height": 412
        }
      },
      "source": [
        "model.compile(loss='categorical_crossentropy', optimizer='adam', metrics=['accuracy'])\n",
        "model.summary() "
      ],
      "execution_count": 0,
      "outputs": [
        {
          "output_type": "stream",
          "text": [
            "W0712 10:31:01.308724 140163957274496 deprecation_wrapper.py:119] From /usr/local/lib/python3.6/dist-packages/keras/optimizers.py:790: The name tf.train.Optimizer is deprecated. Please use tf.compat.v1.train.Optimizer instead.\n",
            "\n",
            "W0712 10:31:01.508295 140163957274496 deprecation_wrapper.py:119] From /usr/local/lib/python3.6/dist-packages/keras/backend/tensorflow_backend.py:3295: The name tf.log is deprecated. Please use tf.math.log instead.\n",
            "\n"
          ],
          "name": "stderr"
        },
        {
          "output_type": "stream",
          "text": [
            "_________________________________________________________________\n",
            "Layer (type)                 Output Shape              Param #   \n",
            "=================================================================\n",
            "embedding_1 (Embedding)      (None, 33, 256)           1280000   \n",
            "_________________________________________________________________\n",
            "dropout_1 (Dropout)          (None, 33, 256)           0         \n",
            "_________________________________________________________________\n",
            "lstm_1 (LSTM)                (None, 33, 256)           525312    \n",
            "_________________________________________________________________\n",
            "lstm_2 (LSTM)                (None, 256)               525312    \n",
            "_________________________________________________________________\n",
            "dense_1 (Dense)              (None, 3)                 771       \n",
            "=================================================================\n",
            "Total params: 2,331,395\n",
            "Trainable params: 2,331,395\n",
            "Non-trainable params: 0\n",
            "_________________________________________________________________\n"
          ],
          "name": "stdout"
        }
      ]
    },
    {
      "cell_type": "code",
      "metadata": {
        "id": "h3rpc746vJaf",
        "colab_type": "code",
        "outputId": "cbc800f4-e40c-4884-e12c-6baa2f0ce9d6",
        "colab": {
          "base_uri": "https://localhost:8080/",
          "height": 124
        }
      },
      "source": [
        "y = pd.get_dummies(data['airline_sentiment']).values\n",
        "[print(data['airline_sentiment'][i], y[i]) for i in range(0,5)] "
      ],
      "execution_count": 0,
      "outputs": [
        {
          "output_type": "stream",
          "text": [
            "positive [0 0 1]\n",
            "positive [0 0 1]\n",
            "negative [1 0 0]\n",
            "negative [1 0 0]\n",
            "negative [1 0 0]\n"
          ],
          "name": "stdout"
        },
        {
          "output_type": "execute_result",
          "data": {
            "text/plain": [
              "[None, None, None, None, None]"
            ]
          },
          "metadata": {
            "tags": []
          },
          "execution_count": 15
        }
      ]
    },
    {
      "cell_type": "code",
      "metadata": {
        "id": "jIcXypxevQy5",
        "colab_type": "code",
        "colab": {}
      },
      "source": [
        "X_train, X_test, y_train, y_test = train_test_split(X, y, test_size=0.2, random_state=0) "
      ],
      "execution_count": 0,
      "outputs": []
    },
    {
      "cell_type": "code",
      "metadata": {
        "id": "odxfFr7Uva6e",
        "colab_type": "code",
        "outputId": "fc0640ae-93fa-4e84-c230-276bcfedcc86",
        "colab": {
          "base_uri": "https://localhost:8080/",
          "height": 394
        }
      },
      "source": [
        "batch_size = 32\n",
        "epochs = 8\n",
        "model.fit(X_train, y_train, epochs=epochs, batch_size=batch_size, verbose=2) "
      ],
      "execution_count": 0,
      "outputs": [
        {
          "output_type": "stream",
          "text": [
            "W0712 10:33:07.568721 140163957274496 deprecation.py:323] From /usr/local/lib/python3.6/dist-packages/tensorflow/python/ops/math_grad.py:1250: add_dispatch_support.<locals>.wrapper (from tensorflow.python.ops.array_ops) is deprecated and will be removed in a future version.\n",
            "Instructions for updating:\n",
            "Use tf.where in 2.0, which has the same broadcast rule as np.where\n"
          ],
          "name": "stderr"
        },
        {
          "output_type": "stream",
          "text": [
            "Epoch 1/8\n",
            " - 43s - loss: 0.6515 - acc: 0.7272\n",
            "Epoch 2/8\n",
            " - 38s - loss: 0.4384 - acc: 0.8303\n",
            "Epoch 3/8\n",
            " - 38s - loss: 0.3509 - acc: 0.8683\n",
            "Epoch 4/8\n",
            " - 38s - loss: 0.2953 - acc: 0.8916\n",
            "Epoch 5/8\n",
            " - 38s - loss: 0.2549 - acc: 0.9051\n",
            "Epoch 6/8\n",
            " - 38s - loss: 0.2089 - acc: 0.9229\n",
            "Epoch 7/8\n",
            " - 39s - loss: 0.1814 - acc: 0.9341\n",
            "Epoch 8/8\n",
            " - 38s - loss: 0.1583 - acc: 0.9425\n"
          ],
          "name": "stdout"
        },
        {
          "output_type": "execute_result",
          "data": {
            "text/plain": [
              "<keras.callbacks.History at 0x7f7a207ec3c8>"
            ]
          },
          "metadata": {
            "tags": []
          },
          "execution_count": 18
        }
      ]
    },
    {
      "cell_type": "code",
      "metadata": {
        "id": "Gym-Pc_cwmJ1",
        "colab_type": "code",
        "colab": {}
      },
      "source": [
        "model.save('sentiment_analysis.h5')"
      ],
      "execution_count": 0,
      "outputs": []
    },
    {
      "cell_type": "code",
      "metadata": {
        "id": "l1LMs6tfwrLL",
        "colab_type": "code",
        "outputId": "74fe1699-2d76-41b0-c409-266ea521ae19",
        "colab": {
          "base_uri": "https://localhost:8080/",
          "height": 144
        }
      },
      "source": [
        "predictions = model.predict(X_test)\n",
        "[print(data['text'][i], predictions[i], y_test[i]) for i in range(0, 5)] "
      ],
      "execution_count": 0,
      "outputs": [
        {
          "output_type": "stream",
          "text": [
            "united Great thank you [9.9995780e-01 3.6957455e-05 5.2166629e-06] [1 0 0]\n",
            "americanair bershawnjackson big UPS to Newark airport staff ampamp DDean I was also treated lovely while I was in town  [9.9998951e-01 9.3581257e-06 1.1162828e-06] [1 0 0]\n",
            "JetBlue sis and 16 month old nephew are Last nights flight and this am mega delayed Now this evenings is starting w delays Why [9.9915743e-01 5.9433578e-04 2.4821574e-04] [1 0 0]\n",
            "USAirways after last night in Charlotte NC Im seriously debating never flying you again 50 minute on the Tarmac connection leaves [0.39507407 0.01817003 0.58675593] [0 0 1]\n",
            "AmericanAir guys 5350 in dfw  stuck at the gate for half an hour  Do we pull the slide or what [0.9039004  0.09427395 0.00182562] [0 0 1]\n"
          ],
          "name": "stdout"
        },
        {
          "output_type": "execute_result",
          "data": {
            "text/plain": [
              "[None, None, None, None, None]"
            ]
          },
          "metadata": {
            "tags": []
          },
          "execution_count": 20
        }
      ]
    },
    {
      "cell_type": "code",
      "metadata": {
        "id": "xYhv0_WBwv6S",
        "colab_type": "code",
        "outputId": "fac8d68c-379e-49f8-f9c4-a9503834a66e",
        "colab": {
          "base_uri": "https://localhost:8080/",
          "height": 124
        }
      },
      "source": [
        "pos_count, neu_count, neg_count = 0, 0, 0\n",
        "real_pos, real_neu, real_neg = 0, 0, 0\n",
        "for i, prediction in enumerate(predictions):\n",
        "    if np.argmax(prediction)==2:\n",
        "        pos_count += 1\n",
        "    elif np.argmax(prediction)==1:\n",
        "        neu_count += 1\n",
        "    else:\n",
        "        neg_count += 1\n",
        "\n",
        "    if np.argmax(y_test[i])==2:\n",
        "        real_pos += 1\n",
        "    elif np.argmax(y_test[i])==1:\n",
        "        real_neu += 1\n",
        "    else:\n",
        "        real_neg +=1\n",
        "\n",
        "print('Positive predictions:', pos_count)\n",
        "print('Neutral predictions:', neu_count)\n",
        "print('Negative predictions:', neg_count)\n",
        "print('Real positive:', real_pos)\n",
        "print('Real neutral:', real_neu)\n",
        "print('Real negative:', real_neg) "
      ],
      "execution_count": 0,
      "outputs": [
        {
          "output_type": "stream",
          "text": [
            "Positive predictions: 412\n",
            "Neutral predictions: 582\n",
            "Negative predictions: 1934\n",
            "Real positive: 471\n",
            "Real neutral: 629\n",
            "Real negative: 1828\n"
          ],
          "name": "stdout"
        }
      ]
    }
  ]
}